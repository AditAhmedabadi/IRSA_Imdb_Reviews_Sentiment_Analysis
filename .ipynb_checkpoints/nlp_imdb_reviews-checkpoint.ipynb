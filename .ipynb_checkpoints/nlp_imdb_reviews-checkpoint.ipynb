{
 "cells": [
  {
   "cell_type": "markdown",
   "metadata": {
    "id": "anHe8KleuzQV"
   },
   "source": [
    "## Importing Modules"
   ]
  },
  {
   "cell_type": "code",
   "execution_count": 6,
   "metadata": {
    "colab": {
     "base_uri": "https://localhost:8080/",
     "height": 33
    },
    "id": "byt6dQK5mjy3",
    "outputId": "97381b47-8585-4909-e2f2-ad34bdcc647c"
   },
   "outputs": [
    {
     "name": "stdout",
     "output_type": "stream",
     "text": [
      "2.3.1\n"
     ]
    }
   ],
   "source": [
    "import io\n",
    "import numpy as np\n",
    "import matplotlib.pyplot as plt\n",
    "import tensorflow as tf\n",
    "import tensorflow_datasets as tfds\n",
    "from tensorflow.keras.preprocessing.text import Tokenizer\n",
    "from tensorflow.keras.preprocessing.sequence import pad_sequences\n",
    "print(tf.__version__)"
   ]
  },
  {
   "cell_type": "markdown",
   "metadata": {
    "id": "O3qQxFd0u2FO"
   },
   "source": [
    "### Downloading Dataset form tensorflow_datasets"
   ]
  },
  {
   "cell_type": "code",
   "execution_count": 7,
   "metadata": {
    "id": "hPycC4r7qlyY"
   },
   "outputs": [],
   "source": [
    "imdb , info = tfds.load('imdb_reviews' , as_supervised = True , with_info = True)\n",
    "\n",
    "train_data , test_data = imdb['train'] , imdb['test']"
   ]
  },
  {
   "cell_type": "markdown",
   "metadata": {
    "id": "R7OF41IbsObt"
   },
   "source": [
    "## Extracting Train and Test Sentences and their corresponding Labels"
   ]
  },
  {
   "cell_type": "code",
   "execution_count": 8,
   "metadata": {
    "id": "ERqMANSIwAfU"
   },
   "outputs": [],
   "source": [
    "training_sentences = []\n",
    "training_labels = []\n",
    "\n",
    "testing_sentences = []\n",
    "testing_labels = []\n",
    "\n",
    "for sentence,label in train_data:\n",
    "  training_sentences.append(sentence.numpy().decode('utf8'))\n",
    "  training_labels.append(label.numpy())\n",
    "  \n",
    "for sentence,label in test_data:\n",
    "  testing_sentences.append(sentence.numpy().decode('utf8'))\n",
    "  testing_labels.append(label.numpy())\n",
    "  \n",
    "training_labels_final = np.array(training_labels)\n",
    "testing_labels_final = np.array(testing_labels)\n"
   ]
  },
  {
   "cell_type": "markdown",
   "metadata": {
    "id": "JqdHTx3isW9W"
   },
   "source": [
    "## Initializing Tokenizer and converting sentences into padded sequences"
   ]
  },
  {
   "cell_type": "code",
   "execution_count": 9,
   "metadata": {
    "id": "AMs3v-11y_hD"
   },
   "outputs": [],
   "source": [
    "vocab_size = 20000\n",
    "embed_dims = 16\n",
    "truncate = 'post'\n",
    "pad = 'post'\n",
    "oov_token = '<OOV>'\n",
    "max_length = 150\n",
    "\n",
    "tokenizer = Tokenizer(num_words=vocab_size , oov_token = oov_token)\n",
    "tokenizer.fit_on_texts(training_sentences)\n",
    "word_index = tokenizer.word_index\n",
    "\n",
    "train_sequences = tokenizer.texts_to_sequences(training_sentences)\n",
    "padded_train = pad_sequences(train_sequences , truncating = truncate , padding = pad , maxlen = max_length)\n",
    "\n",
    "test_sequences = tokenizer.texts_to_sequences(testing_sentences)\n",
    "padded_test = pad_sequences(test_sequences , truncating=truncate , padding = pad , maxlen = max_length)\n"
   ]
  },
  {
   "cell_type": "markdown",
   "metadata": {
    "id": "_Rwhz2KWtHg1"
   },
   "source": [
    "## Decoding Sequences back into Texts by creating a reverse word index"
   ]
  },
  {
   "cell_type": "code",
   "execution_count": 10,
   "metadata": {
    "colab": {
     "base_uri": "https://localhost:8080/",
     "height": 70
    },
    "id": "qL7Yi0DH0F6I",
    "outputId": "89ee028e-560d-412a-e2c2-a015db4d1186"
   },
   "outputs": [
    {
     "name": "stdout",
     "output_type": "stream",
     "text": [
      "this is the kind of film for a snowy sunday afternoon when the rest of the world can go ahead with its own business as you descend into a big arm chair and mellow for a couple of hours wonderful performances from cher and nicolas cage as always gently row the plot along there are no <OOV> to cross no dangerous waters just a warm and witty <OOV> through new york life at its best a family film in every sense and one that deserves the praise it received ? ? ? ? ? ? ? ? ? ? ? ? ? ? ? ? ? ? ? ? ? ? ? ? ? ? ? ? ? ? ? ? ? ? ? ? ? ? ? ? ? ? ? ? ? ? ? ? ? ? ? ? ? ? ? ? ? ? ? ? ?\n",
      "This is the kind of film for a snowy Sunday afternoon when the rest of the world can go ahead with its own business as you descend into a big arm-chair and mellow for a couple of hours. Wonderful performances from Cher and Nicolas Cage (as always) gently row the plot along. There are no rapids to cross, no dangerous waters, just a warm and witty paddle through New York life at its best. A family film in every sense and one that deserves the praise it received.\n"
     ]
    }
   ],
   "source": [
    "reverse_word_index = dict([(values , keys) for keys , values in word_index.items()])\n",
    "\n",
    "def decode_review(text):\n",
    "  return ' '.join([reverse_word_index.get(i , '?') for i in text])\n",
    "\n",
    "print(decode_review(padded_train[3]))\n",
    "print(training_sentences[3])"
   ]
  },
  {
   "cell_type": "markdown",
   "metadata": {
    "id": "KIxlRg64tRGO"
   },
   "source": [
    "### Making DNN Model"
   ]
  },
  {
   "cell_type": "code",
   "execution_count": 38,
   "metadata": {
    "id": "a18EUUuF1cGs"
   },
   "outputs": [],
   "source": [
    "model = tf.keras.Sequential([\n",
    "                             tf.keras.layers.Embedding(vocab_size , embed_dims , input_length= max_length),\n",
    "                             tf.keras.layers.Bidirectional(tf.keras.layers.LSTM(32)),\n",
    "                             tf.keras.layers.Dense(units = 16 , activation = 'relu'),\n",
    "                             tf.keras.layers.Dense(units = 1 , activation = 'sigmoid')\n",
    "])\n",
    "\n",
    "model.compile(optimizer = 'adam' , loss = 'binary_crossentropy' , metrics = ['accuracy'])"
   ]
  },
  {
   "cell_type": "markdown",
   "metadata": {
    "id": "9o373EBNtVHA"
   },
   "source": [
    "### Summary of the Model's Processing"
   ]
  },
  {
   "cell_type": "code",
   "execution_count": 39,
   "metadata": {
    "colab": {
     "base_uri": "https://localhost:8080/",
     "height": 284
    },
    "id": "yt3Q8DDG4zIs",
    "outputId": "ca5a5012-9113-49d2-a0e7-42c28fecd402"
   },
   "outputs": [
    {
     "name": "stdout",
     "output_type": "stream",
     "text": [
      "Model: \"sequential_1\"\n",
      "_________________________________________________________________\n",
      "Layer (type)                 Output Shape              Param #   \n",
      "=================================================================\n",
      "embedding_1 (Embedding)      (None, 150, 16)           320000    \n",
      "_________________________________________________________________\n",
      "bidirectional_1 (Bidirection (None, 64)                12544     \n",
      "_________________________________________________________________\n",
      "dense_2 (Dense)              (None, 16)                1040      \n",
      "_________________________________________________________________\n",
      "dense_3 (Dense)              (None, 1)                 17        \n",
      "=================================================================\n",
      "Total params: 333,601\n",
      "Trainable params: 333,601\n",
      "Non-trainable params: 0\n",
      "_________________________________________________________________\n"
     ]
    }
   ],
   "source": [
    "model.summary()"
   ]
  },
  {
   "cell_type": "markdown",
   "metadata": {
    "id": "bffilsJ7tYav"
   },
   "source": [
    "### Initialzing a callback to avoid overfitting , Fitting the data on the model"
   ]
  },
  {
   "cell_type": "code",
   "execution_count": 40,
   "metadata": {
    "colab": {
     "base_uri": "https://localhost:8080/",
     "height": 200
    },
    "id": "LWIVGJnE42ZW",
    "outputId": "0e622b19-3132-41e2-ee63-65e10c552909"
   },
   "outputs": [
    {
     "name": "stdout",
     "output_type": "stream",
     "text": [
      "Epoch 1/15\n",
      "782/782 [==============================] - 47s 60ms/step - loss: 0.4605 - accuracy: 0.7689 - val_loss: 0.3734 - val_accuracy: 0.8332\n",
      "Epoch 2/15\n",
      "782/782 [==============================] - 47s 60ms/step - loss: 0.2425 - accuracy: 0.9088 - val_loss: 0.4236 - val_accuracy: 0.8259\n",
      "Epoch 3/15\n",
      "782/782 [==============================] - 47s 60ms/step - loss: 0.1642 - accuracy: 0.9428 - val_loss: 0.4280 - val_accuracy: 0.8198\n",
      "Epoch 4/15\n",
      "782/782 [==============================] - 53s 68ms/step - loss: 0.1186 - accuracy: 0.9597 - val_loss: 0.5145 - val_accuracy: 0.8113\n",
      "Epoch 5/15\n",
      "782/782 [==============================] - 51s 66ms/step - loss: 0.0885 - accuracy: 0.9701 - val_loss: 0.6779 - val_accuracy: 0.8131\n",
      "Epoch 6/15\n",
      "782/782 [==============================] - 40s 52ms/step - loss: 0.0726 - accuracy: 0.9760 - val_loss: 0.6103 - val_accuracy: 0.8138\n",
      "Epoch 7/15\n",
      "782/782 [==============================] - 38s 49ms/step - loss: 0.0537 - accuracy: 0.9826 - val_loss: 0.6695 - val_accuracy: 0.8150\n",
      "Epoch 8/15\n",
      "782/782 [==============================] - 38s 49ms/step - loss: 0.0358 - accuracy: 0.9882 - val_loss: 0.8158 - val_accuracy: 0.8086\n",
      "Epoch 9/15\n",
      "782/782 [==============================] - 37s 47ms/step - loss: 0.0347 - accuracy: 0.9896 - val_loss: 0.9003 - val_accuracy: 0.8082\n",
      "Epoch 10/15\n",
      "782/782 [==============================] - ETA: 0s - loss: 0.0202 - accuracy: 0.9938\n",
      "Reached 99% accuracy so cancelling training!\n",
      "782/782 [==============================] - 39s 50ms/step - loss: 0.0202 - accuracy: 0.9938 - val_loss: 0.9763 - val_accuracy: 0.8106\n"
     ]
    }
   ],
   "source": [
    "class myCallback(tf.keras.callbacks.Callback):\n",
    "  def on_epoch_end(self, epoch, logs={}):\n",
    "    if(logs.get('accuracy')>0.99):\n",
    "      print(\"\\nReached 99% accuracy so cancelling training!\")\n",
    "      self.model.stop_training = True\n",
    "callbacks = myCallback()\n",
    "\n",
    "history = model.fit(\n",
    "    padded_train,\n",
    "    training_labels_final,\n",
    "    epochs = 15,\n",
    "    validation_data = (padded_test , testing_labels_final),\n",
    "    callbacks = [callbacks]\n",
    ")"
   ]
  },
  {
   "cell_type": "markdown",
   "metadata": {
    "id": "wP7YtuEbtl8j"
   },
   "source": [
    "### Extracting Embeddings from the Model"
   ]
  },
  {
   "cell_type": "code",
   "execution_count": 14,
   "metadata": {
    "colab": {
     "base_uri": "https://localhost:8080/",
     "height": 33
    },
    "id": "6L20qim27BLZ",
    "outputId": "0185560f-cbe9-4ff2-8fe2-8874ca124f88"
   },
   "outputs": [
    {
     "name": "stdout",
     "output_type": "stream",
     "text": [
      "(20000, 16)\n"
     ]
    }
   ],
   "source": [
    "embed_layer = model.layers[0]\n",
    "embed_weights = embed_layer.get_weights()[0]\n",
    "print(embed_weights.shape)"
   ]
  },
  {
   "cell_type": "markdown",
   "metadata": {
    "id": "sYOR3Aixtpst"
   },
   "source": [
    "### Exporting meta.tsv and vecs.tsv (embeddings) to visualize it in tensorflow projector in spherical form"
   ]
  },
  {
   "cell_type": "code",
   "execution_count": 15,
   "metadata": {
    "id": "ObD811Xb-9uA"
   },
   "outputs": [],
   "source": [
    "out_v = io.open(\"vecs.tsv\" , mode = 'w' , encoding='utf-8')\n",
    "out_m = io.open(\"meta.tsv\" , mode = 'w' , encoding='utf-8')\n",
    "\n",
    "for word_num in range(1,vocab_size):\n",
    "  word = reverse_word_index[word_num]\n",
    "  embeddings = embed_weights[word_num]\n",
    "  out_m.write(word + '\\n')\n",
    "  out_v.write('\\t'.join([str(x) for x in embeddings]) + '\\n')\n",
    "out_m.close()\n",
    "out_v.close()"
   ]
  },
  {
   "cell_type": "code",
   "execution_count": 16,
   "metadata": {
    "colab": {
     "base_uri": "https://localhost:8080/",
     "height": 17
    },
    "id": "GeleEsu-_xFD",
    "outputId": "ceee492a-f8d4-46e1-ef98-35e7960300c1"
   },
   "outputs": [],
   "source": [
    "try:\n",
    "  from google.colab import files\n",
    "except ImportError:\n",
    "  pass\n",
    "else:\n",
    "  files.download('vecs.tsv')\n",
    "  files.download('meta.tsv')"
   ]
  },
  {
   "cell_type": "markdown",
   "metadata": {
    "id": "-H__hp6UsNX4"
   },
   "source": [
    "### Testing the model on different Sentences ( if y_hat is above 0.5 review has been predicted positive and below 0.5 is a negative predicted review)"
   ]
  },
  {
   "cell_type": "markdown",
   "metadata": {
    "id": "ryijmApru6fQ"
   },
   "source": [
    "### Creating function to convert sentences into padded sequences with the same hyperparameters"
   ]
  },
  {
   "cell_type": "code",
   "execution_count": 17,
   "metadata": {
    "id": "y-VDeDNWAP91"
   },
   "outputs": [],
   "source": [
    "def get_pad_sequence(sentence_val):\n",
    "  sequence = tokenizer.texts_to_sequences([sentence_val])\n",
    "  padded_seq = pad_sequences(sequence , truncating = truncate , padding = pad , maxlen = max_length)\n",
    "  return padded_seq"
   ]
  },
  {
   "cell_type": "markdown",
   "metadata": {
    "id": "X31zY3CtsNH7"
   },
   "source": [
    "Trying Positive Review"
   ]
  },
  {
   "cell_type": "code",
   "execution_count": 18,
   "metadata": {
    "id": "31YSo2T8r881"
   },
   "outputs": [],
   "source": [
    "sentence = \"I really think this is amazing. honest.\"\n",
    "padded_test_1 = get_pad_sequence(sentence)"
   ]
  },
  {
   "cell_type": "markdown",
   "metadata": {
    "id": "MR2xWWbzvr0l"
   },
   "source": [
    "0.99 means its a very positive review and the classifier is good in predicting posiitve reviews"
   ]
  },
  {
   "cell_type": "code",
   "execution_count": 19,
   "metadata": {
    "colab": {
     "base_uri": "https://localhost:8080/",
     "height": 33
    },
    "id": "NpCR9rssrI_V",
    "outputId": "eea8d5fa-e0fd-4764-fb0b-0b274c383e33"
   },
   "outputs": [
    {
     "data": {
      "text/plain": [
       "array([[0.99197006]], dtype=float32)"
      ]
     },
     "execution_count": 19,
     "metadata": {},
     "output_type": "execute_result"
    }
   ],
   "source": [
    "model.predict(padded_test_1)"
   ]
  },
  {
   "cell_type": "markdown",
   "metadata": {
    "id": "cYTaATujvG8Y"
   },
   "source": [
    "Trying Negative Review"
   ]
  },
  {
   "cell_type": "code",
   "execution_count": 20,
   "metadata": {
    "id": "0qxfLFYMrPJg"
   },
   "outputs": [],
   "source": [
    "sentence = \"The movie was so boring , bad and not worth watching. I hated the movie and no one should have to sit through that\"\n",
    "padded_test_2 = get_pad_sequence(sentence)"
   ]
  },
  {
   "cell_type": "code",
   "execution_count": 21,
   "metadata": {
    "colab": {
     "base_uri": "https://localhost:8080/",
     "height": 33
    },
    "id": "gNJvaE7XvT74",
    "outputId": "cbd5bc50-166a-485b-c05d-a2e2b2f6f315"
   },
   "outputs": [
    {
     "data": {
      "text/plain": [
       "array([[0.00125679]], dtype=float32)"
      ]
     },
     "execution_count": 21,
     "metadata": {},
     "output_type": "execute_result"
    }
   ],
   "source": [
    "model.predict(padded_test_2)"
   ]
  },
  {
   "cell_type": "markdown",
   "metadata": {
    "id": "r_rsIl87vY_o"
   },
   "source": [
    "0.009 means its a very negative review and the model is correct"
   ]
  },
  {
   "cell_type": "markdown",
   "metadata": {},
   "source": [
    "## Analysis of Loss and Accuracy\n"
   ]
  },
  {
   "cell_type": "code",
   "execution_count": 33,
   "metadata": {},
   "outputs": [],
   "source": [
    "acc = history.history['accuracy']\n",
    "val_acc = history.history['val_accuracy']\n",
    "\n",
    "loss = history.history['loss']\n",
    "val_loss = history.history['val_loss']\n",
    "\n",
    "num_epochs = range(len(acc))"
   ]
  },
  {
   "cell_type": "code",
   "execution_count": 34,
   "metadata": {},
   "outputs": [],
   "source": [
    "def plot_graph(x,y1,y2 , string_lst):\n",
    "    plt.plot(x , y1 , x ,y2)\n",
    "    plt.title(string_lst[0])\n",
    "    plt.xlabel(string_lst[1])\n",
    "    plt.ylabel(string_lst[2])\n",
    "    plt.show()"
   ]
  },
  {
   "cell_type": "code",
   "execution_count": 35,
   "metadata": {},
   "outputs": [
    {
     "data": {
      "image/png": "[encoded data removed]",
      "text/plain": [
       "<Figure size 432x288 with 1 Axes>"
      ]
     },
     "metadata": {
      "needs_background": "light"
     },
     "output_type": "display_data"
    }
   ],
   "source": [
    "plt.figure()\n",
    "plot_graph(num_epochs , acc , val_acc , ['Accuracy Plot' , 'Accuracy' , 'Epochs'])"
   ]
  },
  {
   "cell_type": "code",
   "execution_count": 36,
   "metadata": {},
   "outputs": [
    {
     "data": {
      "image/png": "[encoded data removed]",
      "text/plain": [
       "<Figure size 432x288 with 1 Axes>"
      ]
     },
     "metadata": {
      "needs_background": "light"
     },
     "output_type": "display_data"
    }
   ],
   "source": [
    "plot_graph(num_epochs , loss , val_loss , ['Loss Plot' , 'Loss' , 'Epochs'])"
   ]
  },
  {
   "cell_type": "code",
   "execution_count": null,
   "metadata": {},
   "outputs": [],
   "source": []
  }
 ],
 "metadata": {
  "colab": {
   "collapsed_sections": [],
   "name": "nlp_imdb_reviews.ipynb",
   "provenance": []
  },
  "kernelspec": {
   "display_name": "Python 3",
   "language": "python",
   "name": "python3"
  },
  "language_info": {
   "codemirror_mode": {
    "name": "ipython",
    "version": 3
   },
   "file_extension": ".py",
   "mimetype": "text/x-python",
   "name": "python",
   "nbconvert_exporter": "python",
   "pygments_lexer": "ipython3",
   "version": "3.8.6"
  }
 },
 "nbformat": 4,
 "nbformat_minor": 1
}
